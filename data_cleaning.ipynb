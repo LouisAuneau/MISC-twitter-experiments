{
 "cells": [
  {
   "cell_type": "markdown",
   "metadata": {},
   "source": [
    "# Data cleaning"
   ]
  },
  {
   "cell_type": "markdown",
   "metadata": {},
   "source": [
    "This part aims to clean the tweets stored in `data/tweets.csv` in order to do topic extraction afterward.\n",
    "\n",
    "Cleaning includes:\n",
    "- Removing URLs,\n",
    "- Removing tweets that are too short (50 characters is the current threshold),\n",
    "- Tokenizing (which removes ponctuation)."
   ]
  },
  {
   "cell_type": "code",
   "execution_count": null,
   "metadata": {},
   "outputs": [],
   "source": [
    "import pandas as pd\n",
    "import numpy as np\n",
    "import re\n",
    "from nltk.tokenize import word_tokenize"
   ]
  },
  {
   "cell_type": "code",
   "execution_count": 7,
   "metadata": {},
   "outputs": [
    {
     "name": "stdout",
     "output_type": "stream",
     "text": [
      "      account                                               text  \\\n",
      "3         NBA   ⚡️ Recap an exciting Week 2 around the #NBA!\\n\\n   \n",
      "4         NBA  🚂💪💥\\n\\nRelive the BEST DUNKS of Week 2! #BestO...   \n",
      "19        NBA        👀 the NBA standings after Sunday's action!    \n",
      "20        NBA     🤯🤯🤯\\n\\nKawhi x #PhantomCam \\n\\n#ClipperNation    \n",
      "31        NBA       🗣 @SnoopDogg on the call at @spurs/@Lakers!    \n",
      "..        ...                                                ...   \n",
      "487  Patriots         Beware the BOOGEYMEN.\\n\\nHappy #Halloween    \n",
      "492  Patriots  What advice would you give to your younger self?    \n",
      "495  Patriots                #Patriots Wednesday injury report:    \n",
      "498  Patriots                       #Patriots sign K Nick Folk:    \n",
      "499  Patriots       Bill Belichick Live Press Conference 10/30:    \n",
      "\n",
      "                         created_at  \\\n",
      "3    Mon Nov 04 19:57:05 +0000 2019   \n",
      "4    Mon Nov 04 19:43:50 +0000 2019   \n",
      "19   Mon Nov 04 05:14:41 +0000 2019   \n",
      "20   Mon Nov 04 05:04:00 +0000 2019   \n",
      "31   Mon Nov 04 03:47:58 +0000 2019   \n",
      "..                              ...   \n",
      "487  Thu Oct 31 14:36:45 +0000 2019   \n",
      "492  Wed Oct 30 23:31:00 +0000 2019   \n",
      "495  Wed Oct 30 20:39:11 +0000 2019   \n",
      "498  Wed Oct 30 16:56:43 +0000 2019   \n",
      "499  Wed Oct 30 15:52:21 +0000 2019   \n",
      "\n",
      "                                             tokenized  \n",
      "3    [⚡️, Recap, an, exciting, Week, 2, around, the...  \n",
      "4    [🚂💪💥, Relive, the, BEST, DUNKS, of, Week, 2, !...  \n",
      "19   [👀, the, NBA, standings, after, Sunday, 's, ac...  \n",
      "20    [🤯🤯🤯, Kawhi, x, #, PhantomCam, #, ClipperNation]  \n",
      "31   [🗣, @, SnoopDogg, on, the, call, at, @, spurs/...  \n",
      "..                                                 ...  \n",
      "487   [Beware, the, BOOGEYMEN, ., Happy, #, Halloween]  \n",
      "492  [What, advice, would, you, give, to, your, you...  \n",
      "495        [#, Patriots, Wednesday, injury, report, :]  \n",
      "498              [#, Patriots, sign, K, Nick, Folk, :]  \n",
      "499  [Bill, Belichick, Live, Press, Conference, 10/...  \n",
      "\n",
      "[120 rows x 4 columns]\n"
     ]
    }
   ],
   "source": [
    "tweets = pd.read_csv(\"data/tweets.csv\")\n",
    "\n",
    "# Remove URLs from tweets\n",
    "tweets[\"text\"] = tweets[\"text\"].apply(lambda tweet: re.sub(r'https?:\\/\\/.*[\\r\\n]*', '', tweet, flags=re.MULTILINE))\n",
    "\n",
    "# Remove tweets with less than 50 characters\n",
    "tweets = tweets[tweets[\"text\"].apply(len) < 50]\n",
    "\n",
    "# Tokenize\n",
    "tweets[\"tokenized\"] = tweets[\"text\"].apply(word_tokenize)"
   ]
  },
  {
   "cell_type": "markdown",
   "metadata": {},
   "source": [
    "## Sources\n",
    "\n",
    "https://arxiv.org/ftp/arxiv/papers/1608/1608.02519.pdf"
   ]
  },
  {
   "cell_type": "code",
   "execution_count": null,
   "metadata": {},
   "outputs": [],
   "source": []
  }
 ],
 "metadata": {
  "hide_input": false,
  "kernelspec": {
   "display_name": "Python 3",
   "language": "python",
   "name": "python3"
  },
  "language_info": {
   "codemirror_mode": {
    "name": "ipython",
    "version": 3
   },
   "file_extension": ".py",
   "mimetype": "text/x-python",
   "name": "python",
   "nbconvert_exporter": "python",
   "pygments_lexer": "ipython3",
   "version": "3.7.5"
  }
 },
 "nbformat": 4,
 "nbformat_minor": 2
}
