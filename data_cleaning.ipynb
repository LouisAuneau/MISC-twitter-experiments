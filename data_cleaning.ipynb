{
 "cells": [
  {
   "cell_type": "markdown",
   "metadata": {},
   "source": [
    "# Data cleaning"
   ]
  },
  {
   "cell_type": "markdown",
   "metadata": {},
   "source": [
    "This part aims to clean and prepare the tweets stored in `data/tweets.csv` in order to do topic extraction afterward. Pre-requisite is that tweets are in english.\n",
    "\n",
    "Cleaning includes:\n",
    "- Removing URLs,\n",
    "- Removing tweets that are too short (50 characters is the current threshold) and words that are too short from tweets (less than 4 characters),\n",
    "- Put tweets in lowercase,\n",
    "- Tokenizing (which removes ponctuation),\n",
    "- Removing stop words\n",
    "- Lemmetization ([more here](https://nlp.stanford.edu/IR-book/html/htmledition/stemming-and-lemmatization-1.html))."
   ]
  },
  {
   "cell_type": "code",
   "execution_count": 15,
   "metadata": {},
   "outputs": [],
   "source": [
    "import pandas as pd\n",
    "import numpy as np\n",
    "import re\n",
    "from nltk.tokenize import word_tokenize\n",
    "from nltk.corpus import stopwords\n",
    "from nltk.stem import WordNetLemmatizer"
   ]
  },
  {
   "cell_type": "code",
   "execution_count": 17,
   "metadata": {},
   "outputs": [
    {
     "name": "stderr",
     "output_type": "stream",
     "text": [
      "[nltk_data] Downloading package wordnet to\n",
      "[nltk_data]     C:\\Users\\launeau\\AppData\\Roaming\\nltk_data...\n",
      "[nltk_data]   Unzipping corpora\\wordnet.zip.\n"
     ]
    }
   ],
   "source": [
    "tweets = pd.read_csv(\"data/tweets.csv\")\n",
    "\n",
    "# Remove URLs from tweets\n",
    "tweets[\"text\"] = tweets[\"text\"].apply(lambda tweet: re.sub(r'https?:\\/\\/.*[\\r\\n]*', '', tweet, flags=re.MULTILINE))\n",
    "\n",
    "# Remove tweets with less than 50 characters\n",
    "tweets = tweets[tweets[\"text\"].apply(len) < 50]\n",
    "\n",
    "# Lower case\n",
    "tweets[\"text\"] = tweets[\"text\"].str.lower()\n",
    "\n",
    "# Tokenize\n",
    "tweets[\"tokenized\"] = tweets[\"text\"].apply(word_tokenize)\n",
    "\n",
    "# Remove too short words (<= 3 chars)\n",
    "tweets[\"tokenized\"] = tweets[\"tokenized\"].apply(lambda tokens: [token for token in tokens if len(token) > 3])\n",
    "\n",
    "# Remove english stop words\n",
    "tweets[\"tokenized\"] = tweets[\"tokenized\"].apply(lambda tokens: [token for token in tokens if token not in stopwords.words('english')])\n",
    "\n",
    "# Lemmetization\n",
    "lemmatizer = WordNetLemmatizer()\n",
    "tweets[\"tokenized\"] = tweets[\"tokenized\"].apply(lambda tokens: [lemmatizer.lemmatize(token) for token in tokens])\n",
    "\n",
    "tweets.to_csv(\"data/out.csv\")"
   ]
  },
  {
   "cell_type": "markdown",
   "metadata": {},
   "source": [
    "## Sources\n",
    "\n",
    "https://arxiv.org/ftp/arxiv/papers/1608/1608.02519.pdf  \n",
    "http://www.jmlr.org/papers/volume3/blei03a/blei03a.pdf  \n",
    "https://nlp.stanford.edu/IR-book/html/htmledition/stemming-and-lemmatization-1.html"
   ]
  },
  {
   "cell_type": "code",
   "execution_count": null,
   "metadata": {},
   "outputs": [],
   "source": []
  }
 ],
 "metadata": {
  "hide_input": false,
  "kernelspec": {
   "display_name": "Python 3",
   "language": "python",
   "name": "python3"
  },
  "language_info": {
   "codemirror_mode": {
    "name": "ipython",
    "version": 3
   },
   "file_extension": ".py",
   "mimetype": "text/x-python",
   "name": "python",
   "nbconvert_exporter": "python",
   "pygments_lexer": "ipython3",
   "version": "3.7.5"
  }
 },
 "nbformat": 4,
 "nbformat_minor": 2
}
