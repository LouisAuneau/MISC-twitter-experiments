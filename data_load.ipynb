{
 "cells": [
  {
   "cell_type": "markdown",
   "metadata": {},
   "source": [
    "# Twitter data retrieval"
   ]
  },
  {
   "cell_type": "markdown",
   "metadata": {},
   "source": [
    "This notebook retrieves 100 tweets for the given accounts in the environement files. These accounts must be public."
   ]
  },
  {
   "cell_type": "code",
   "execution_count": 1,
   "metadata": {},
   "outputs": [],
   "source": [
    "import configparser\n",
    "import twitter\n",
    "import pandas as pd"
   ]
  },
  {
   "cell_type": "code",
   "execution_count": 2,
   "metadata": {},
   "outputs": [
    {
     "name": "stdout",
     "output_type": "stream",
     "text": [
      "[DONE] Retrieved 100 tweets for each input account.\n"
     ]
    }
   ],
   "source": [
    "# load .env config\n",
    "config = configparser.ConfigParser()\n",
    "config.read('.env')\n",
    "\n",
    "# Initialized Twitter API\n",
    "twitterApi = twitter.Api(consumer_key=config[\"twitter\"][\"twitter_api_key\"],\n",
    "                  consumer_secret=config[\"twitter\"][\"twitter_api_private_key\"],\n",
    "                  access_token_key=config[\"twitter\"][\"twitter_access_token\"],\n",
    "                  access_token_secret=config[\"twitter\"][\"twitter_access_token_secret\"])\n",
    "\n",
    "# load accounts\n",
    "accounts = config[\"twitter\"][\"accounts\"].split(\",\")\n",
    "\n",
    "# retrieve 100 last tweets\n",
    "tweets = pd.DataFrame(columns=[\"account\", \"text\", \"created_at\"])\n",
    "for account in accounts:\n",
    "    account_tweets = twitterApi.GetUserTimeline(screen_name=account, count=100)\n",
    "    for account_tweet in account_tweets:\n",
    "        tweets = tweets.append({\n",
    "            'account': account,\n",
    "            'text': account_tweet.text,\n",
    "            'created_at': account_tweet.created_at\n",
    "        }, ignore_index=True)\n",
    "        \n",
    "tweets.to_csv(\"data/tweets.csv\", index=False)\n",
    "print(\"[DONE] Retrieved 100 tweets for each input account.\")"
   ]
  }
 ],
 "metadata": {
  "hide_input": false,
  "kernelspec": {
   "display_name": "Python 3",
   "language": "python",
   "name": "python3"
  },
  "language_info": {
   "codemirror_mode": {
    "name": "ipython",
    "version": 3
   },
   "file_extension": ".py",
   "mimetype": "text/x-python",
   "name": "python",
   "nbconvert_exporter": "python",
   "pygments_lexer": "ipython3",
   "version": "3.7.5"
  }
 },
 "nbformat": 4,
 "nbformat_minor": 2
}
